{
  "nbformat": 4,
  "nbformat_minor": 0,
  "metadata": {
    "colab": {
      "name": "intraday_cash_future_arbitrage.ipynb",
      "provenance": [],
      "collapsed_sections": [],
      "mount_file_id": "1p_E54G8PUGnlIPQJHZlVqLXrm0BdAQk9",
      "authorship_tag": "ABX9TyOHV0LCcP6MZb2KM/rq08De"
    },
    "kernelspec": {
      "name": "python3",
      "display_name": "Python 3"
    },
    "language_info": {
      "name": "python"
    }
  },
  "cells": [
    {
      "cell_type": "code",
      "source": [
        "%%capture\n",
        "!pip install fyers-apiv2"
      ],
      "metadata": {
        "id": "j5HDNoDBa8en"
      },
      "execution_count": null,
      "outputs": []
    },
    {
      "cell_type": "markdown",
      "source": [
        "### **Fyers Authentication**\n",
        "**All the required parameters for creating auth_code are stored in the fyers_secret.txt file in the given order.That is client id in first line followed by secret_key in next line and so on**"
      ],
      "metadata": {
        "id": "Q7DXl47KbFnS"
      }
    },
    {
      "cell_type": "code",
      "source": [
        "# Using readlines()\n",
        "file1 = open('/content/drive/MyDrive/fyers_secret.txt', 'r')\n",
        "Lines = file1.readlines()\n",
        "client_id = Lines[0][0:-1]\n",
        "secret_key = Lines[1][0:-1]\n",
        "redirect_uri = Lines[2][0:-1]\n",
        "response_type = Lines[3][0:-1]\n",
        "grant_type = Lines[4][0:-1]\n",
        "state = Lines[5]\n",
        "# Strips the newline character\n",
        "state"
      ],
      "metadata": {
        "id": "u5uVjdLUa_m7",
        "colab": {
          "base_uri": "https://localhost:8080/",
          "height": 36
        },
        "outputId": "9eea9cd6-1bdd-43cf-e715-d78050fb3180"
      },
      "execution_count": null,
      "outputs": [
        {
          "output_type": "execute_result",
          "data": {
            "text/plain": [
              "'success'"
            ],
            "application/vnd.google.colaboratory.intrinsic+json": {
              "type": "string"
            }
          },
          "metadata": {},
          "execution_count": 3
        }
      ]
    },
    {
      "cell_type": "code",
      "source": [
        "from fyers_api import fyersModel\n",
        "from fyers_api import accessToken\n",
        "#import asyncio\n",
        "from concurrent import futures\n",
        "session=accessToken.SessionModel(client_id=client_id,\n",
        "secret_key=secret_key,redirect_uri=redirect_uri, \n",
        "response_type=response_type, grant_type=grant_type,\n",
        "state=state)\n",
        "\n",
        "response = session.generate_authcode()  \n",
        "#response"
      ],
      "metadata": {
        "id": "VwuwATx_bCrp",
        "colab": {
          "base_uri": "https://localhost:8080/"
        },
        "outputId": "74412a98-5033-4606-f6bd-b0e8d4c72ee6"
      },
      "execution_count": null,
      "outputs": [
        {
          "output_type": "stream",
          "name": "stdout",
          "text": [
            "moduleName: fyersService, ERR: cannot import name 'future_set_exception_unless_cancelled' from 'tornado.concurrent' (/usr/local/lib/python3.7/dist-packages/tornado/concurrent.py)\n"
          ]
        }
      ]
    },
    {
      "cell_type": "code",
      "source": [
        "auth_code = \"\"\n",
        "session.set_token(auth_code)\n",
        "response = session.generate_token()\n",
        "access_token = response[\"access_token\"]\n",
        "log_path = \"/content/drive/MyDrive/Fyers_logs\"\n",
        "fyers = fyersModel.FyersModel(client_id=client_id, token=access_token,log_path=log_path)\n",
        "is_async = True  #(By default the async will be False, Change to True for async API calls.)"
      ],
      "metadata": {
        "id": "jGot47icbsHP"
      },
      "execution_count": null,
      "outputs": []
    },
    {
      "cell_type": "code",
      "source": [
        "data = {\"symbols\":\"NSE:NIFTY2261616000CE\"}\n",
        "o = fyers.quotes(data)#['d'][0]#.get('v')#.get('ask')\n",
        "o"
      ],
      "metadata": {
        "id": "eI2xzw2DbyTH",
        "colab": {
          "base_uri": "https://localhost:8080/"
        },
        "outputId": "c73fde21-89dd-4ff9-dc88-d8a54fc92259"
      },
      "execution_count": null,
      "outputs": [
        {
          "output_type": "execute_result",
          "data": {
            "text/plain": [
              "{'d': [{'n': 'NSE:NIFTY2261616000CE',\n",
              "   's': 'ok',\n",
              "   'v': {'ask': 304.2,\n",
              "    'bid': 303.8,\n",
              "    'ch': -191.9,\n",
              "    'chp': -38.66,\n",
              "    'cmd': {'c': 304.5,\n",
              "     'h': 305.15,\n",
              "     'l': 303.95,\n",
              "     'o': 305.15,\n",
              "     't': 1654845480,\n",
              "     'tf': '12:48',\n",
              "     'v': 2300},\n",
              "    'description': 'NSE:NIFTY2261616000CE',\n",
              "    'exchange': 'NSE',\n",
              "    'fyToken': '101122061643703',\n",
              "    'high_price': 369.9,\n",
              "    'low_price': 296.05,\n",
              "    'lp': 304.5,\n",
              "    'open_price': 353.35,\n",
              "    'original_name': 'NSE:NIFTY2261616000CE',\n",
              "    'prev_close_price': 496.4,\n",
              "    'short_name': 'NIFTY2261616000CE',\n",
              "    'spread': 0.4,\n",
              "    'symbol': 'NSE:NIFTY2261616000CE',\n",
              "    'tt': 1654819200,\n",
              "    'volume': 1695950}}],\n",
              " 's': 'ok'}"
            ]
          },
          "metadata": {},
          "execution_count": 5
        }
      ]
    },
    {
      "cell_type": "markdown",
      "source": [
        "## **Intraday Cash Future Arbitrage Detector**"
      ],
      "metadata": {
        "id": "pSpXxEm2cLWa"
      }
    },
    {
      "cell_type": "markdown",
      "source": [
        "#### **This intraday cash future arbitrage detector takes advantage of the minute fluctuations in the basis of the asset in a real time live environment and generates high frequency buy/sell signals accordingly. These minute fluctuations are detected in a relatively stable market using bollinger bands. Every day until maturity will have some mean basis, but when the markets are stable around mid day there will be minute fluctuations in this basis where it will suddenly rise/fall and then go back to the mean basis level in the next millisecond, we make use of these minute fluctuations and make riskless profits.**\n",
        "#### **REQUIREMENTS: This strategy needs APIs which are capable of placing orders at high frequencies. The markets need to be relatively stable, this strategy fails in highly fluctuating markets.**\n",
        "#### **There are 2 cases possible:**\n",
        "#### **(i) Contango (Basis equals future - spot): If the basis crosses the upper band then we short the basis(= short future + long spot) and vice versa in the opposite scenario. We close our positions in the next second when the basis reaches its mean level.**\n",
        "#### **(ii) Backwardation (Basis equals spot - future): If the basis crosses the upper band then we short the basis(= short spot + long future) and vice versa in the opposite scenario. We close our positions in the next second when the basis reaches its mean level.**"
      ],
      "metadata": {
        "id": "LlwtYaRQb07q"
      }
    },
    {
      "cell_type": "code",
      "source": [
        "import numpy as np\n",
        "import pandas as pd\n",
        "#import yfinance as yf\n",
        "import time\n",
        "import math\n",
        "#import mplfinance as mpf\n",
        "from IPython.display import clear_output \n",
        "import warnings\n",
        "import datetime\n",
        "import pytz \n",
        "from datetime import date\n",
        "import json\n",
        "from IPython.display import clear_output"
      ],
      "metadata": {
        "id": "opa6-korhk8e"
      },
      "execution_count": null,
      "outputs": []
    },
    {
      "cell_type": "code",
      "source": [
        "def get_symbol(index_fut):\n",
        "  allowedSegment = [11]\n",
        "  futurl = 'https://public.fyers.in/sym_details/NSE_FO.csv'\n",
        "  futurl_symbollist = pd.read_csv(futurl , header = None)\n",
        "  futurl_symbollist.columns =  ['FyersToken', 'Name', 'Instrument', 'lot', 'tick', 'ISIN','TradingSession', 'Lastupdatedate', 'Expirydate', 'Symbol', 'Exchange', 'Segment','ScripCode','ScripName','No idea','STRIKE','OPT_TYPE']\n",
        "  futurl_symbollist =futurl_symbollist[futurl_symbollist['Instrument'].isin(allowedSegment)]\n",
        "  ind_list = [i for i in range(len(futurl_symbollist))]\n",
        "  futurl_symbollist = futurl_symbollist.reset_index( inplace =  False )\n",
        "  fut_symbol = []\n",
        "  for i in range(len(futurl_symbollist)):\n",
        "    if(str(futurl_symbollist['Symbol'].iloc[i][0:9]) == index_fut[0:9]):\n",
        "      fut_symbol.append(str(futurl_symbollist['Symbol'].iloc[i]))\n",
        "  return fut_symbol\n",
        "symbols = get_symbol(\"NSE:NIFTY50-INDEX\")\n",
        "symbols"
      ],
      "metadata": {
        "colab": {
          "base_uri": "https://localhost:8080/"
        },
        "id": "9bXwYdPKgN9B",
        "outputId": "c6187c63-3639-4d76-9b41-5ee7e461e39e"
      },
      "execution_count": null,
      "outputs": [
        {
          "output_type": "execute_result",
          "data": {
            "text/plain": [
              "['NSE:NIFTY22JUNFUT', 'NSE:NIFTY22JULFUT', 'NSE:NIFTY22AUGFUT']"
            ]
          },
          "metadata": {},
          "execution_count": 7
        }
      ]
    },
    {
      "cell_type": "code",
      "source": [
        "\n",
        "def get_bb(data, lookback, n):  ##### For calculating bollinger bands for the basis\n",
        "\n",
        "  middle_bb = []\n",
        "  upper_bb = []\n",
        "  lower_bb = []\n",
        "  std = []\n",
        "  for i in range(lookback,len(data)):\n",
        "      middle_bb.append(sum(data[i-lookback:i])/lookback)\n",
        "      variance = sum([((x - middle_bb[i-lookback]) ** 2) for x in data[i-lookback:i]]) / lookback\n",
        "      res = variance ** 0.5\n",
        "      std.append(res)\n",
        "      \n",
        "  \n",
        "  for j in range(len(std)):\n",
        "      upper_bb.append(middle_bb[j] + std[j] * n)\n",
        "      lower_bb.append(middle_bb[j] - std[j] * n)\n",
        "\n",
        "  return upper_bb, middle_bb, lower_bb"
      ],
      "metadata": {
        "id": "aaHDedI4yNgo"
      },
      "execution_count": null,
      "outputs": []
    },
    {
      "cell_type": "code",
      "source": [
        "from fyers_api.Websocket import ws\n",
        "from os.path import exists\n",
        "import math\n",
        "\n",
        "index_fut = 'NSE:NIFTY50-INDEX'\n",
        "symbol = get_symbol(index_fut)[0]\n",
        "symbols = []\n",
        "symbols.append(symbol)\n",
        "symbols.append(index_fut)\n",
        "#print(symbols)\n",
        "access_tok = client_id + ':' + access_token\n",
        "data_type = 'symbolData'\n",
        "run_background  = False #(by default) If you don’t want to get the orderUpdate over the console you can set the run_background to True\n",
        "str1 = 0\n",
        "str2 = 0\n",
        "time_str_fut = \"\"\n",
        "time_str_spot = \"\"\n",
        "basis1 = 0\n",
        "order_long = False\n",
        "order_short = False\n",
        "basis_list = []\n",
        "#(This is the custom message function which we need to have in order to receive the Symbol/order update and accordingly you can manipulate the data you receive through this function  )\n",
        "def custom_message(msg):\n",
        "      global str1,str2,net_p1,net_p2,basis_list,time_str_fut,time_str_spot\n",
        "      msg = msg[0]\n",
        "      \n",
        "      ##### Storing the future and index object in different variables - str1 and str2\n",
        "      if(str(msg['symbol'][-3:]) == 'FUT'):\n",
        "        str1 = msg\n",
        "      \n",
        "      if(str(msg['symbol'][0:11]) == 'NSE:NIFTY50'):\n",
        "        str2 = msg \n",
        "      \n",
        "      if((str1!=0) and (str2!=0)): # To check for existence of the objects\n",
        "      \n",
        "        if(abs(int(str1['timestamp'])-int(str2['timestamp']))<=1): # To work on objects which have time stamp of equal to or less than one\n",
        "          fut_price = float(str1['ltp'])\n",
        "          spot_price = float(str2['ltp'])\n",
        "          fut_true_price = fut_price*math.exp(-0.0485*22/365)\n",
        "          transaction_cost = 0.0\n",
        "         \n",
        "          if(float(fut_true_price-spot_price-transaction_cost)>0):#############     CONTANGO    #############\n",
        "            basis = (fut_price-spot_price-transaction_cost)\n",
        "            if(len(basis_list)<30):\n",
        "                basis_list.append(basis)\n",
        "            else:\n",
        "              for i in range(len(basis_list)-1):\n",
        "                basis_list[i] = basis_list[i+1]\n",
        "              basis_list[len(basis_list)-1] = basis\n",
        "\n",
        "              upper_bb,middle_bb,lower_bb = get_bb(basis_list, 20, 2)\n",
        "          \n",
        "            if(len(upper_bb)>=10):\n",
        "                \n",
        "                \"\"\"\n",
        "                if(order_short==True): print(\"Short basis: Time(for futures):    \"+str(time_str_fut)+ \"   Time(for spot): \"+str(time_str_spot)+\"  Profit:   \" + str(basis1-basis))\n",
        "                #if(order_long==True): print(\"Long basis:  Time(for futures):   \"+str(time_str_fut)+ \"   Time(for spot): \"+str(time_str_spot)+\"  Profit:   \" + str(basis-basis1))\n",
        "                \"\"\"\n",
        "                time_str_fut = str1['timestamp']\n",
        "                time_str_spot = str2['timestamp']\n",
        "                \n",
        "                print(\"basis at: \" + str(basis_list[29]) +\"  Time(for futures):    \"+str(time_str_fut)+\"   Time(for spot): \"+str(time_str_spot) + \" spot cash at avg price  \" + str(spot_price) +\" and fut at  \" + str(fut_price) )\n",
        "              \n",
        "                if((float(upper_bb[9])<float(basis_list[29])) and (float(upper_bb[8])>float(basis_list[28]))):  # To check for those values which crosses the upper band from below\n",
        "                    \n",
        "                    print(\"Short basis at: \" + str(basis_list[29]) +\"  Time(for futures):    \"+str(time_str_fut)+\"   Time(for spot): \"+str(time_str_spot)+ \" short fut at avg price  \" + str(fut_price) +\"  and long spot cash   \" + str(spot_price) )\n",
        "                    #order_short = True\n",
        "                    #basis1 = basis_list[29]\n",
        "                    \n",
        "                if((float(lower_bb[9])>float(basis_list[29])) and (float(lower_bb[8])<float(basis_list[28]))):  # To check for those values which crossed the lower band from above\n",
        "                    \n",
        "                    print(\"Long basis at: \" + str(basis_list[29])  +\"  Time(for futures):    \"+str(time_str_fut)+\"   Time(for spot): \"+str(time_str_spot)+ \" long Fut at avg price  \" + str(fut_price) +\"  and short spot cash   \" + str(spot_price) )\n",
        "                    #order_long = True\n",
        "                    #basis1 = basis_list[29]\n",
        "\n",
        "          if((spot_price-fut_true_price-transaction_cost)>0):#############     BACKWARDATION    #############\n",
        "            basis = (spot_price-fut_true_price-transaction_cost)\n",
        "            if(len(basis_list)<30):\n",
        "                basis_list.append(basis)\n",
        "            else:\n",
        "              for i in range(len(basis_list)-1):\n",
        "                basis_list[i] = basis_list[i+1]\n",
        "              basis_list[len(basis_list)-1] = basis\n",
        "            \n",
        "              upper_bb,middle_bb,lower_bb = get_bb(basis_list, 20, 2)\n",
        "            \n",
        "            if(len(upper_bb)>=10):\n",
        "            \n",
        "                \"\"\"\n",
        "                if(order_short==True): print(\"Short basis: Time(for futures):    \"+str(time_str_fut)+ \"   Time(for spot): \"+str(time_str_spot)+\"  Profit:   \" + str(basis1-basis))\n",
        "                #if(order_long==True): print(\"Long basis:  Time(for futures):   \"+str(time_str_fut)+ \"   Time(for spot): \"+str(time_str_spot)+\"  Profit:   \" + str(basis-basis1))\n",
        "                \"\"\"\n",
        "                time_str_fut = str1['timestamp']\n",
        "                time_str_spot = str2['timestamp']\n",
        "                \n",
        "                print(\"basis at: \" + str(basis_list[29]) +\"  Time(for futures):    \"+str(time_str_fut)+\"   Time(for spot): \"+str(time_str_spot) + \" spot cash at avg price  \" + str(spot_price) +\" and fut at  \" + str(fut_price) )\n",
        "             \n",
        "                if((float(upper_bb[9])<float(basis_list[29])) and (float(upper_bb[8])>float(basis_list[28]))):  # To check for those values which crosses the upper band from below\n",
        "                    \n",
        "                    print(\"Short basis at: \" + str(basis_list[29]) +\" Time(for futures):    \"+str(time_str_fut)+\"   Time(for spot): \"+str(time_str_spot)+ \" short spot at avg price  \" + str(spot_price) +\"  and long fut at   \" + str(spot_price) )\n",
        "                    #order_short = True\n",
        "                    #basis1 = basis_list[29]\n",
        "                    \n",
        "                if((float(lower_bb[9])>float(basis_list[29])) and (float(lower_bb[8])<float(basis_list[28]))):  # To check for those values which crossed the lower band from above\n",
        "                    \n",
        "                    print(\"Long basis at: \" + str(basis_list[29])  +\" Time(for futures):    \"+str(time_str_fut)+\"   Time(for spot): \"+str(time_str_spot)+ \" long spot at avg price  \" + str(spot_price) +\"  and short spot cash   \" + str(fut_price) )\n",
        "                    #order_long = True\n",
        "                    #basis1 = basis_list[29]          \n",
        "\n",
        "        \n",
        "fyersSocket = ws.FyersSocket(access_token=access_tok,run_background=run_background,log_path=\"/content/drive/MyDrive/Fyers_logs\")\n",
        "fyersSocket.websocket_data = custom_message\n",
        "fyersSocket.subscribe(symbol=symbols,data_type=data_type)\n",
        "fyersSocket.keep_running()\n",
        "#fyersSocket.unsubscribe(symbol = symbol)"
      ],
      "metadata": {
        "id": "rvufxb95hbpC",
        "colab": {
          "base_uri": "https://localhost:8080/",
          "height": 1000
        },
        "outputId": "d0b2c5b1-eb1a-4c3c-9a52-97d47f19fafb"
      },
      "execution_count": null,
      "outputs": [
        {
          "output_type": "stream",
          "name": "stdout",
          "text": [
            "basis at: 37.125678797399814  Time(for futures):    1654845936   Time(for spot): 1654845935 spot cash at avg price  16219.75 and fut at  16230.0\n",
            "Long basis at: 37.125678797399814 Time(for futures):    1654845936   Time(for spot): 1654845935 long spot at avg price  16219.75  and short spot cash   16230.0\n",
            "basis at: 38.67713830691173  Time(for futures):    1654845937   Time(for spot): 1654845938 spot cash at avg price  16221.8 and fut at  16230.5\n",
            "basis at: 38.2284518654742  Time(for futures):    1654845938   Time(for spot): 1654845938 spot cash at avg price  16221.8 and fut at  16230.95\n",
            "basis at: 38.178451865474926  Time(for futures):    1654845938   Time(for spot): 1654845939 spot cash at avg price  16221.75 and fut at  16230.95\n",
            "basis at: 38.12859781642692  Time(for futures):    1654845939   Time(for spot): 1654845939 spot cash at avg price  16221.75 and fut at  16231.0\n",
            "basis at: 37.92859781642619  Time(for futures):    1654845939   Time(for spot): 1654845940 spot cash at avg price  16221.55 and fut at  16231.0\n",
            "basis at: 37.23064112974316  Time(for futures):    1654845941   Time(for spot): 1654845940 spot cash at avg price  16221.55 and fut at  16231.7\n",
            "Long basis at: 37.23064112974316 Time(for futures):    1654845941   Time(for spot): 1654845940 long spot at avg price  16221.55  and short spot cash   16231.7\n",
            "basis at: 37.282100639256896  Time(for futures):    1654845943   Time(for spot): 1654845944 spot cash at avg price  16222.1 and fut at  16232.2\n",
            "basis at: 36.633998001625514  Time(for futures):    1654845944   Time(for spot): 1654845944 spot cash at avg price  16222.1 and fut at  16232.85\n",
            "Long basis at: 36.633998001625514 Time(for futures):    1654845944   Time(for spot): 1654845944 long spot at avg price  16222.1  and short spot cash   16232.85\n",
            "basis at: 36.683998001624786  Time(for futures):    1654845944   Time(for spot): 1654845945 spot cash at avg price  16222.15 and fut at  16232.85\n",
            "basis at: 36.58428990352695  Time(for futures):    1654845945   Time(for spot): 1654845945 spot cash at avg price  16222.15 and fut at  16232.95\n",
            "basis at: 36.684289903527315  Time(for futures):    1654845945   Time(for spot): 1654845946 spot cash at avg price  16222.25 and fut at  16232.95\n",
            "basis at: 37.18297634496594  Time(for futures):    1654845947   Time(for spot): 1654845947 spot cash at avg price  16222.3 and fut at  16232.5\n",
            "basis at: 36.43297634496594  Time(for futures):    1654845947   Time(for spot): 1654845948 spot cash at avg price  16221.55 and fut at  16232.5\n",
            "basis at: 36.482830394013945  Time(for futures):    1654845948   Time(for spot): 1654845948 spot cash at avg price  16221.55 and fut at  16232.45\n",
            "basis at: 37.52976542403667  Time(for futures):    1654845949   Time(for spot): 1654845948 spot cash at avg price  16221.55 and fut at  16231.4\n",
            "basis at: 37.67976542403812  Time(for futures):    1654845949   Time(for spot): 1654845950 spot cash at avg price  16221.7 and fut at  16231.4\n",
            "basis at: 37.72961947308613  Time(for futures):    1654845950   Time(for spot): 1654845950 spot cash at avg price  16221.7 and fut at  16231.35\n",
            "basis at: 38.779619473085404  Time(for futures):    1654845950   Time(for spot): 1654845951 spot cash at avg price  16222.75 and fut at  16231.35\n",
            "basis at: 38.729765424037396  Time(for futures):    1654845951   Time(for spot): 1654845951 spot cash at avg price  16222.75 and fut at  16231.4\n",
            "basis at: 37.62976542403703  Time(for futures):    1654845951   Time(for spot): 1654845952 spot cash at avg price  16221.65 and fut at  16231.4\n",
            "basis at: 37.978743767378546  Time(for futures):    1654845952   Time(for spot): 1654845952 spot cash at avg price  16221.65 and fut at  16231.05\n",
            "basis at: 36.63356014877172  Time(for futures):    1654845954   Time(for spot): 1654845955 spot cash at avg price  16221.95 and fut at  16232.7\n",
            "basis at: 37.684289903527315  Time(for futures):    1654845956   Time(for spot): 1654845956 spot cash at avg price  16223.25 and fut at  16232.95\n",
            "basis at: 39.229765424037396  Time(for futures):    1654845956   Time(for spot): 1654845956 spot cash at avg price  16223.25 and fut at  16231.4\n",
            "Short basis at: 39.229765424037396 Time(for futures):    1654845956   Time(for spot): 1654845956 short spot at avg price  16223.25  and long fut at   16223.25\n",
            "basis at: 38.52976542403667  Time(for futures):    1654845956   Time(for spot): 1654845957 spot cash at avg price  16222.55 and fut at  16231.4\n",
            "basis at: 39.37859781642692  Time(for futures):    1654845958   Time(for spot): 1654845958 spot cash at avg price  16223.0 and fut at  16231.0\n",
            "Short basis at: 39.37859781642692 Time(for futures):    1654845958   Time(for spot): 1654845958 short spot at avg price  16223.0  and long fut at   16223.0\n",
            "basis at: 39.028597816426554  Time(for futures):    1654845958   Time(for spot): 1654845959 spot cash at avg price  16222.65 and fut at  16231.0\n",
            "basis at: 37.03443585447894  Time(for futures):    1654845959   Time(for spot): 1654845959 spot cash at avg price  16222.65 and fut at  16233.0\n",
            "basis at: 37.48443585447967  Time(for futures):    1654845959   Time(for spot): 1654845960 spot cash at avg price  16223.1 and fut at  16233.0\n",
            "basis at: 39.07976542403776  Time(for futures):    1654845960   Time(for spot): 1654845960 spot cash at avg price  16223.1 and fut at  16231.4\n",
            "basis at: 40.92976542403812  Time(for futures):    1654845960   Time(for spot): 1654845961 spot cash at avg price  16224.95 and fut at  16231.4\n",
            "Short basis at: 40.92976542403812 Time(for futures):    1654845960   Time(for spot): 1654845961 short spot at avg price  16224.95  and long fut at   16224.95\n",
            "basis at: 39.334435854480034  Time(for futures):    1654845961   Time(for spot): 1654845961 spot cash at avg price  16224.95 and fut at  16233.0\n",
            "basis at: 38.88443585447931  Time(for futures):    1654845961   Time(for spot): 1654845962 spot cash at avg price  16224.5 and fut at  16233.0\n",
            "basis at: 39.42786806166987  Time(for futures):    1654845965   Time(for spot): 1654845965 spot cash at avg price  16222.8 and fut at  16230.75\n",
            "basis at: 41.320570514104475  Time(for futures):    1654845969   Time(for spot): 1654845970 spot cash at avg price  16222.2 and fut at  16228.25\n",
            "Short basis at: 41.320570514104475 Time(for futures):    1654845969   Time(for spot): 1654845970 short spot at avg price  16222.2  and long fut at   16222.2\n",
            "basis at: 40.82524094454493  Time(for futures):    1654845971   Time(for spot): 1654845971 spot cash at avg price  16223.3 and fut at  16229.85\n",
            "basis at: 40.82524094454493  Time(for futures):    1654845972   Time(for spot): 1654845971 spot cash at avg price  16223.3 and fut at  16229.85\n",
            "basis at: 40.91998671029978  Time(for futures):    1654845974   Time(for spot): 1654845974 spot cash at avg price  16221.6 and fut at  16228.05\n",
            "basis at: 41.469986710299054  Time(for futures):    1654845974   Time(for spot): 1654845975 spot cash at avg price  16222.15 and fut at  16228.05\n"
          ]
        },
        {
          "output_type": "error",
          "ename": "KeyboardInterrupt",
          "evalue": "ignored",
          "traceback": [
            "\u001b[0;31m---------------------------------------------------------------------------\u001b[0m",
            "\u001b[0;31mKeyboardInterrupt\u001b[0m                         Traceback (most recent call last)",
            "\u001b[0;32m<ipython-input-10-bf2b3a792118>\u001b[0m in \u001b[0;36m<module>\u001b[0;34m()\u001b[0m\n\u001b[1;32m    133\u001b[0m \u001b[0mfyersSocket\u001b[0m\u001b[0;34m.\u001b[0m\u001b[0mwebsocket_data\u001b[0m \u001b[0;34m=\u001b[0m \u001b[0mcustom_message\u001b[0m\u001b[0;34m\u001b[0m\u001b[0;34m\u001b[0m\u001b[0m\n\u001b[1;32m    134\u001b[0m \u001b[0;31m#clear_output()\u001b[0m\u001b[0;34m\u001b[0m\u001b[0;34m\u001b[0m\u001b[0;34m\u001b[0m\u001b[0m\n\u001b[0;32m--> 135\u001b[0;31m \u001b[0mfyersSocket\u001b[0m\u001b[0;34m.\u001b[0m\u001b[0msubscribe\u001b[0m\u001b[0;34m(\u001b[0m\u001b[0msymbol\u001b[0m\u001b[0;34m=\u001b[0m\u001b[0msymbols\u001b[0m\u001b[0;34m,\u001b[0m\u001b[0mdata_type\u001b[0m\u001b[0;34m=\u001b[0m\u001b[0mdata_type\u001b[0m\u001b[0;34m)\u001b[0m\u001b[0;34m\u001b[0m\u001b[0;34m\u001b[0m\u001b[0m\n\u001b[0m\u001b[1;32m    136\u001b[0m \u001b[0mfyersSocket\u001b[0m\u001b[0;34m.\u001b[0m\u001b[0mkeep_running\u001b[0m\u001b[0;34m(\u001b[0m\u001b[0;34m)\u001b[0m\u001b[0;34m\u001b[0m\u001b[0;34m\u001b[0m\u001b[0m\n\u001b[1;32m    137\u001b[0m \u001b[0;31m#fyersSocket.unsubscribe(symbol = symbol)\u001b[0m\u001b[0;34m\u001b[0m\u001b[0;34m\u001b[0m\u001b[0;34m\u001b[0m\u001b[0m\n",
            "\u001b[0;32m/usr/local/lib/python3.7/dist-packages/fyers_api/Websocket/ws.py\u001b[0m in \u001b[0;36msubscribe\u001b[0;34m(self, symbol, data_type)\u001b[0m\n\u001b[1;32m    103\u001b[0m                                 \u001b[0mself\u001b[0m\u001b[0;34m.\u001b[0m\u001b[0m__ws_object\u001b[0m\u001b[0;34m.\u001b[0m\u001b[0msend\u001b[0m\u001b[0;34m(\u001b[0m\u001b[0mget_symbol_data\u001b[0m\u001b[0;34m)\u001b[0m\u001b[0;34m\u001b[0m\u001b[0;34m\u001b[0m\u001b[0m\n\u001b[1;32m    104\u001b[0m                                 \u001b[0;32mif\u001b[0m \u001b[0mself\u001b[0m\u001b[0;34m.\u001b[0m\u001b[0mrun_background\u001b[0m \u001b[0;32mis\u001b[0m \u001b[0;32mFalse\u001b[0m\u001b[0;34m:\u001b[0m\u001b[0;34m\u001b[0m\u001b[0;34m\u001b[0m\u001b[0m\n\u001b[0;32m--> 105\u001b[0;31m                                         \u001b[0mself\u001b[0m\u001b[0;34m.\u001b[0m\u001b[0mt\u001b[0m\u001b[0;34m.\u001b[0m\u001b[0mjoin\u001b[0m\u001b[0;34m(\u001b[0m\u001b[0;34m)\u001b[0m\u001b[0;34m\u001b[0m\u001b[0;34m\u001b[0m\u001b[0m\n\u001b[0m\u001b[1;32m    106\u001b[0m \u001b[0;34m\u001b[0m\u001b[0m\n\u001b[1;32m    107\u001b[0m         \u001b[0;32mdef\u001b[0m \u001b[0munsubscribe\u001b[0m\u001b[0;34m(\u001b[0m\u001b[0mself\u001b[0m\u001b[0;34m,\u001b[0m\u001b[0msymbol\u001b[0m\u001b[0;34m)\u001b[0m\u001b[0;34m:\u001b[0m\u001b[0;34m\u001b[0m\u001b[0;34m\u001b[0m\u001b[0m\n",
            "\u001b[0;32m/usr/lib/python3.7/threading.py\u001b[0m in \u001b[0;36mjoin\u001b[0;34m(self, timeout)\u001b[0m\n\u001b[1;32m   1042\u001b[0m \u001b[0;34m\u001b[0m\u001b[0m\n\u001b[1;32m   1043\u001b[0m         \u001b[0;32mif\u001b[0m \u001b[0mtimeout\u001b[0m \u001b[0;32mis\u001b[0m \u001b[0;32mNone\u001b[0m\u001b[0;34m:\u001b[0m\u001b[0;34m\u001b[0m\u001b[0;34m\u001b[0m\u001b[0m\n\u001b[0;32m-> 1044\u001b[0;31m             \u001b[0mself\u001b[0m\u001b[0;34m.\u001b[0m\u001b[0m_wait_for_tstate_lock\u001b[0m\u001b[0;34m(\u001b[0m\u001b[0;34m)\u001b[0m\u001b[0;34m\u001b[0m\u001b[0;34m\u001b[0m\u001b[0m\n\u001b[0m\u001b[1;32m   1045\u001b[0m         \u001b[0;32melse\u001b[0m\u001b[0;34m:\u001b[0m\u001b[0;34m\u001b[0m\u001b[0;34m\u001b[0m\u001b[0m\n\u001b[1;32m   1046\u001b[0m             \u001b[0;31m# the behavior of a negative timeout isn't documented, but\u001b[0m\u001b[0;34m\u001b[0m\u001b[0;34m\u001b[0m\u001b[0;34m\u001b[0m\u001b[0m\n",
            "\u001b[0;32m/usr/lib/python3.7/threading.py\u001b[0m in \u001b[0;36m_wait_for_tstate_lock\u001b[0;34m(self, block, timeout)\u001b[0m\n\u001b[1;32m   1058\u001b[0m         \u001b[0;32mif\u001b[0m \u001b[0mlock\u001b[0m \u001b[0;32mis\u001b[0m \u001b[0;32mNone\u001b[0m\u001b[0;34m:\u001b[0m  \u001b[0;31m# already determined that the C code is done\u001b[0m\u001b[0;34m\u001b[0m\u001b[0;34m\u001b[0m\u001b[0m\n\u001b[1;32m   1059\u001b[0m             \u001b[0;32massert\u001b[0m \u001b[0mself\u001b[0m\u001b[0;34m.\u001b[0m\u001b[0m_is_stopped\u001b[0m\u001b[0;34m\u001b[0m\u001b[0;34m\u001b[0m\u001b[0m\n\u001b[0;32m-> 1060\u001b[0;31m         \u001b[0;32melif\u001b[0m \u001b[0mlock\u001b[0m\u001b[0;34m.\u001b[0m\u001b[0macquire\u001b[0m\u001b[0;34m(\u001b[0m\u001b[0mblock\u001b[0m\u001b[0;34m,\u001b[0m \u001b[0mtimeout\u001b[0m\u001b[0;34m)\u001b[0m\u001b[0;34m:\u001b[0m\u001b[0;34m\u001b[0m\u001b[0;34m\u001b[0m\u001b[0m\n\u001b[0m\u001b[1;32m   1061\u001b[0m             \u001b[0mlock\u001b[0m\u001b[0;34m.\u001b[0m\u001b[0mrelease\u001b[0m\u001b[0;34m(\u001b[0m\u001b[0;34m)\u001b[0m\u001b[0;34m\u001b[0m\u001b[0;34m\u001b[0m\u001b[0m\n\u001b[1;32m   1062\u001b[0m             \u001b[0mself\u001b[0m\u001b[0;34m.\u001b[0m\u001b[0m_stop\u001b[0m\u001b[0;34m(\u001b[0m\u001b[0;34m)\u001b[0m\u001b[0;34m\u001b[0m\u001b[0;34m\u001b[0m\u001b[0m\n",
            "\u001b[0;31mKeyboardInterrupt\u001b[0m: "
          ]
        }
      ]
    }
  ]
}