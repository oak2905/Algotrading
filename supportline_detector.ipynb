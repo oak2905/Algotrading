{
  "nbformat": 4,
  "nbformat_minor": 0,
  "metadata": {
    "colab": {
      "name": "supportline_detector.ipynb",
      "provenance": [],
      "collapsed_sections": [],
      "mount_file_id": "19T6AzL_dzw-IzFoi9lXhwspUu6Gw7TLQ",
      "authorship_tag": "ABX9TyMSc6GpWrnEz7Nu/l5eJZ2+"
    },
    "kernelspec": {
      "name": "python3",
      "display_name": "Python 3"
    },
    "language_info": {
      "name": "python"
    }
  },
  "cells": [
    {
      "cell_type": "code",
      "source": [
        "%%capture\n",
        "!pip install yfinance\n",
        "!pip install mplfinance\n",
        "!pip install fyers-apiv2"
      ],
      "metadata": {
        "id": "rUeH6mx94_62"
      },
      "execution_count": null,
      "outputs": []
    },
    {
      "cell_type": "markdown",
      "source": [
        "### **Fyers Authentication**\n",
        "**All the required parameters for creating auth_code are stored in the fyers_secret.txt file in the given order.That is client id in first line followed by secret_key in next line and so on**"
      ],
      "metadata": {
        "id": "W25KTzmFcd5c"
      }
    },
    {
      "cell_type": "code",
      "source": [
        "# Using readlines()\n",
        "file1 = open('/content/drive/MyDrive/fyers_secret.txt', 'r')\n",
        "Lines = file1.readlines()\n",
        "client_id = Lines[0][0:-1]\n",
        "secret_key = Lines[1][0:-1]\n",
        "redirect_uri = Lines[2][0:-1]\n",
        "response_type = Lines[3][0:-1]\n",
        "grant_type = Lines[4][0:-1]\n",
        "state = Lines[5]\n",
        "# Strips the newline character\n",
        "state"
      ],
      "metadata": {
        "colab": {
          "base_uri": "https://localhost:8080/",
          "height": 36
        },
        "id": "lU7trBugUY1j",
        "outputId": "a6cc3c83-0725-4329-c117-34e9dc469e78"
      },
      "execution_count": null,
      "outputs": [
        {
          "output_type": "execute_result",
          "data": {
            "text/plain": [
              "'success'"
            ],
            "application/vnd.google.colaboratory.intrinsic+json": {
              "type": "string"
            }
          },
          "metadata": {},
          "execution_count": 2
        }
      ]
    },
    {
      "cell_type": "code",
      "source": [
        "from fyers_api import fyersModel\n",
        "from fyers_api import accessToken\n",
        "#import asyncio\n",
        "from concurrent import futures\n",
        "session=accessToken.SessionModel(client_id=client_id,\n",
        "secret_key=secret_key,redirect_uri=redirect_uri, \n",
        "response_type=response_type, grant_type=grant_type,\n",
        "state=state)\n",
        "\n",
        "response = session.generate_authcode()  \n",
        "#response"
      ],
      "metadata": {
        "id": "PahroyeBrzJa"
      },
      "execution_count": null,
      "outputs": []
    },
    {
      "cell_type": "code",
      "source": [
        "#auth_code = \"\"\n",
        "session.set_token(auth_code)\n",
        "response = session.generate_token()\n",
        "access_token = response[\"access_token\"]\n",
        "log_path = \"/content/drive/MyDrive/Fyers_logs\"\n",
        "fyers = fyersModel.FyersModel(client_id=client_id, token=access_token,log_path=log_path)\n",
        "is_async = True  #(By default the async will be False, Change to True for async API calls.)\n",
        "\n"
      ],
      "metadata": {
        "id": "PdzzU5-MyV4h"
      },
      "execution_count": null,
      "outputs": []
    },
    {
      "cell_type": "code",
      "source": [
        "data = {\"symbols\":\"NSE:TCS-EQ\"}\n",
        "o = fyers.quotes(data) #['d'][0].get('v').get('cmd').get('o')\n",
        "o"
      ],
      "metadata": {
        "id": "klkQlSgr0LiE"
      },
      "execution_count": null,
      "outputs": []
    },
    {
      "cell_type": "markdown",
      "source": [
        "## **Support Line detector**\n",
        "####**Parameters to be editted by user: symbol, resolution, range_from,range_to**\n",
        "####**Functions used are:** \n",
        "####**(1) data_input():**\n",
        "####    **INPUT: ticker(input for this: symbol, resolution, range_from, range_to)**\n",
        "####   **OUTPUT: data of past 100 candlesticks**\n",
        "####**(2) plot_ohlc(): Plots the past 100 candlesticks and the support line if it's unbroken, else it only plots the candlesticks.**\n",
        "####**(3) draw_trend_line(): Returns the corresponding y-axis points for the angle input.**\n",
        "####**(4) check_trendline(): Checks if the support line is unbroken and outputs the unbroken support lines corresponding to various angles (from 0 degrees to 70 degrees)**\n",
        "\n",
        "####**FINALLY:**\n",
        "####**The above functions are run at the end to produce the support line(if it exists/unbroken) and the candlesticks plot, this final cell is run every 'interv' seconds where 'interv' equals the interval of the data thus facilitating real time updation**\n",
        "\n",
        "####**Flow of the program is as follows:**\n",
        "####**data_input() ---> (draw_trend_lines() - run inside check_trend_lines())--->check_trend_lines()--->plot_ohlc()[looped through different angles producing plots corresponding to different angles] ---> Sleep for interv seconds ---> Re-run**\n"
      ],
      "metadata": {
        "id": "Tb1q4Q7a_45x"
      }
    },
    {
      "cell_type": "code",
      "execution_count": null,
      "metadata": {
        "id": "CiQP4hcIhCKS"
      },
      "outputs": [],
      "source": [
        "import numpy as np\n",
        "import pandas as pd\n",
        "import yfinance as yf\n",
        "import time\n",
        "import math\n",
        "import mplfinance as mpf\n",
        "from IPython.display import clear_output \n",
        "import warnings\n",
        "import datetime\n",
        "import pytz "
      ]
    },
    {
      "cell_type": "code",
      "source": [
        "#User should only edit these 4 parameters\n",
        "######################################################################\n",
        "\n",
        "symbol = \"NSE:CANFINHOME-EQ\" \n",
        "resolution = \"1\" # 1 for 1 min, 2 for 2 min, and so on for 3,5,10,15,30,60,120,240\n",
        "range_from = \"2022-06-01\" #YYYY-MM-DD\n",
        "range_to = \"2022-06-01\" #YYYY-MM-DD\n",
        "\n",
        "######################################################################\n",
        "\n",
        "ticker = {\"symbol\":symbol,\"resolution\":resolution,\"date_format\":\"1\",\"range_from\": range_from,\"range_to\": range_to,\"cont_flag\":\"1\"}"
      ],
      "metadata": {
        "id": "mkTsY8R_pKOg"
      },
      "execution_count": null,
      "outputs": []
    },
    {
      "cell_type": "code",
      "source": [
        "def data_input(ticker):\n",
        "  \"\"\"data = yf.download(tickers=ticker, period=period, interval=interval)\"\"\"\n",
        "\n",
        "  ss = fyers.history(ticker)['candles']\n",
        "  for i in range(len(ss)):\n",
        "    ss[i][0] = ss[i][0] + 19800 #The datetime given is the unix time format which is 5hr30min slower than IST hence add (5*3600)+(30*60) = 19800\n",
        "  if(ss[-1][5]==0): ss=ss[:-1] #In order to remove junk values at the end\n",
        "  data = pd.DataFrame(data=ss,columns=['Date', 'Open','High','Low','Close','Volume'])\n",
        "  data['Date'] =[ time.strftime(\"%Y-%m-%d, %H:%M\",time.localtime(float(x))) for x in data['Date']]\n",
        "  data['Date'] = pd.to_datetime(data['Date'])\n",
        "  #data['Date'] = datetime.datetime.fromtimestamp(data['Date']) \n",
        "  #data = data[::-1] \n",
        "  data = data.set_index('Date')\n",
        "\n",
        "  data = data[-150:]\n",
        "  data['min_price'] = np.nan\n",
        "  #data = data.reset_index(drop = False)\n",
        "  for i in range(len(data)):\n",
        "    if (data['Open'].iloc[i]<data['Close'].iloc[i]):\n",
        "      s = 'Open'\n",
        "    else:\n",
        "      s = 'Close'\n",
        "    data['min_price'].iloc[i] = data[s].iloc[i]  \n",
        "  return data"
      ],
      "metadata": {
        "id": "hI991Opj7od3"
      },
      "execution_count": null,
      "outputs": []
    },
    {
      "cell_type": "code",
      "source": [
        "def plot_ohlc(lines_x1,lines_y1,j=9):\n",
        "  if(len(lines_y1)>0):\n",
        "    multiple_points_arr = []\n",
        "    for i in range(len(lines_y1)):\n",
        "      multiple_points = np.array(list(zip(lines_x1,lines_y1[i])))\n",
        "      multiple_points = multiple_points.tolist()\n",
        "      multiple_points_arr.append(multiple_points)\n",
        "      #volumeAxes.set_ylim(vymin() - 0.5, vymax() + 0.5)\n",
        "    mpf.plot(data, figratio=(8,4), type='candle',alines = multiple_points_arr[j], volume=True, style='yahoo')\n",
        "  else:\n",
        "    mpf.plot(data, figratio=(8,4), type='candle', volume=True, style='yahoo')\n",
        "  #mpf.plot(data, figratio=(8,4), type='candle',alines = multiple_points_arr[10], volume=True, style='yahoo')"
      ],
      "metadata": {
        "id": "GXe9kq4F9aDW"
      },
      "execution_count": null,
      "outputs": []
    },
    {
      "cell_type": "code",
      "source": [
        "def draw_trend_line(angle,data):\n",
        "  data = data.reset_index(drop = False)\n",
        "  min_index = data['min_price'].idxmin()\n",
        "  slope = math.tan(math.radians(angle))\n",
        "  start_x = min_index\n",
        "  start_y = data['min_price'][min_index]\n",
        "  line_y = []\n",
        "  for i in range(min_index,len(data)):\n",
        "    y = start_y + (slope * list(data.index)[i-min_index])\n",
        "    line_y.append(y)\n",
        "  return line_y,min_index\n"
      ],
      "metadata": {
        "id": "ZvvhOYDaODpO"
      },
      "execution_count": null,
      "outputs": []
    },
    {
      "cell_type": "code",
      "source": [
        "def check_trend_lines(data):\n",
        "  lines_y = []\n",
        "  angles_y = []\n",
        "  angle = 0\n",
        "\n",
        "  while (angle<=70):\n",
        "    line_y,min_index = draw_trend_line(angle,data)\n",
        "    count = 0\n",
        "    deny_line = 0\n",
        "    for j in range(min_index+1,len(data)):\n",
        "      #This piece of code eliminates higher angles\n",
        "      if((float(line_y[j-min_index])>float(data['Close'].iloc[j]))): #In order to eliminate those lines which are broken by red candle sticks which close below the trendline\n",
        "        deny_line +=1\n",
        "        break\n",
        "    if(deny_line==0):\n",
        "      for i in range(min_index+1,len(data)):\n",
        "          if ((float(line_y[i-min_index])>=float(data['Low'].iloc[i])*0.999) and (float(line_y[i-min_index])<=float(data['min_price'].iloc[i])) ): #Detects those points of the trendline which lie between the Low and the min_price of the candlestick\n",
        "            count = count + 1\n",
        "    \n",
        "    if (count >= 3):\n",
        "        lines_y.append(line_y)\n",
        "        angles_y.append(angle)\n",
        "    angle = angle + 0.2\n",
        "  lines_x = [data.index[i].to_pydatetime() for i in range(min_index,len(data))]\n",
        "  for i in range(len(lines_x)):\n",
        "    lines_x[i] = lines_x[i].replace (tzinfo=None)\n",
        "  return lines_y,lines_x,angles_y"
      ],
      "metadata": {
        "id": "uhLwUJVkbdji"
      },
      "execution_count": null,
      "outputs": []
    },
    {
      "cell_type": "code",
      "source": [
        "if(resolution == '1'): interv = 60\n",
        "if(resolution == '2'): interv = 120\n",
        "if(resolution == '3'): interv = 180\n",
        "if(resolution == '5'): interv = 300\n",
        "if(resolution == '10'): interv = 600\n",
        "if(resolution == '15'): interv = 900\n",
        "if(resolution == '30'): interv = 1800\n",
        "if(resolution == '60'): interv = 3600\n",
        "if(resolution == '120'): interv = 7200\n",
        "if(resolution == '240'): interv = 14400\n",
        " "
      ],
      "metadata": {
        "id": "H_s1un376lGQ"
      },
      "execution_count": null,
      "outputs": []
    },
    {
      "cell_type": "code",
      "source": [
        "warnings.simplefilter(action='ignore', category=FutureWarning) #ignore futurewarning\n",
        "pd.options.mode.chained_assignment = None  # default='warn' #ignore copywarning\n",
        "while(True):\n",
        "  data = pd.DataFrame()\n",
        "  data = data_input(ticker)\n",
        "  lines_y1,lines_x1,angles = check_trend_lines(data)\n",
        "  if(len(lines_y1)>0):\n",
        "      \"\"\"for i in range(len(lines_y1)):\n",
        "      angle = angles[i]\"\"\"\n",
        "      print(\"The angle of the trendline is: {} deg\".format(angles[-1])) #Replace -1 with i for getting plots of all possible angles\n",
        "      plot_ohlc(lines_x1,lines_y1,-1) #Replace -1 with i for getting plots of all possible angles\n",
        "  else:\n",
        "      print(\"No unbroken support line\")\n",
        "      plot_ohlc(lines_x1,lines_y1)\n",
        "  time.sleep(interv)\n",
        "  clear_output()"
      ],
      "metadata": {
        "colab": {
          "base_uri": "https://localhost:8080/",
          "height": 714
        },
        "id": "9T0AsES4FV-n",
        "outputId": "8ebb3acf-d2d3-4d61-c71b-c8604e6c03be"
      },
      "execution_count": null,
      "outputs": [
        {
          "output_type": "stream",
          "name": "stdout",
          "text": [
            "The angle of the trendline is: 1.5999999999999999 deg\n"
          ]
        },
        {
          "output_type": "display_data",
          "data": {
            "text/plain": [
              "<Figure size 1150x575 with 4 Axes>"
            ],
            "image/png": "[encoded data removed]"
          },
          "metadata": {}
        },
        {
          "output_type": "error",
          "ename": "KeyboardInterrupt",
          "evalue": "ignored",
          "traceback": [
            "\u001b[0;31m---------------------------------------------------------------------------\u001b[0m",
            "\u001b[0;31mKeyboardInterrupt\u001b[0m                         Traceback (most recent call last)",
            "\u001b[0;32m<ipython-input-77-9d4b8d619792>\u001b[0m in \u001b[0;36m<module>\u001b[0;34m()\u001b[0m\n\u001b[1;32m     13\u001b[0m       \u001b[0mprint\u001b[0m\u001b[0;34m(\u001b[0m\u001b[0;34m\"No unbroken support line\"\u001b[0m\u001b[0;34m)\u001b[0m\u001b[0;34m\u001b[0m\u001b[0;34m\u001b[0m\u001b[0m\n\u001b[1;32m     14\u001b[0m       \u001b[0mplot_ohlc\u001b[0m\u001b[0;34m(\u001b[0m\u001b[0mlines_x1\u001b[0m\u001b[0;34m,\u001b[0m\u001b[0mlines_y1\u001b[0m\u001b[0;34m)\u001b[0m\u001b[0;34m\u001b[0m\u001b[0;34m\u001b[0m\u001b[0m\n\u001b[0;32m---> 15\u001b[0;31m   \u001b[0mtime\u001b[0m\u001b[0;34m.\u001b[0m\u001b[0msleep\u001b[0m\u001b[0;34m(\u001b[0m\u001b[0minterv\u001b[0m\u001b[0;34m)\u001b[0m\u001b[0;34m\u001b[0m\u001b[0;34m\u001b[0m\u001b[0m\n\u001b[0m\u001b[1;32m     16\u001b[0m   \u001b[0mclear_output\u001b[0m\u001b[0;34m(\u001b[0m\u001b[0;34m)\u001b[0m\u001b[0;34m\u001b[0m\u001b[0;34m\u001b[0m\u001b[0m\n",
            "\u001b[0;31mKeyboardInterrupt\u001b[0m: "
          ]
        }
      ]
    }
  ]
}